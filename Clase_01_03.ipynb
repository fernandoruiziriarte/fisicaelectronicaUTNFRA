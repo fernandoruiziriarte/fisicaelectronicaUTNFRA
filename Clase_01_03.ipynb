{
  "nbformat": 4,
  "nbformat_minor": 0,
  "metadata": {
    "colab": {
      "name": "Clase_01_03.ipynb",
      "provenance": [],
      "authorship_tag": "ABX9TyN2o/DOuu4G/QOoBkdc3pWa",
      "include_colab_link": true
    },
    "kernelspec": {
      "name": "python3",
      "display_name": "Python 3"
    },
    "language_info": {
      "name": "python"
    }
  },
  "cells": [
    {
      "cell_type": "markdown",
      "metadata": {
        "id": "view-in-github",
        "colab_type": "text"
      },
      "source": [
        "<a href=\"https://colab.research.google.com/github/porrale/fisicaelectronicaUTNFRA/blob/main/Clase_01_03.ipynb\" target=\"_parent\"><img src=\"https://colab.research.google.com/assets/colab-badge.svg\" alt=\"Open In Colab\"/></a>"
      ]
    },
    {
      "cell_type": "code",
      "source": [
        "\n"
      ],
      "metadata": {
        "colab": {
          "base_uri": "https://localhost:8080/"
        },
        "id": "hTv3U9un5Sh8",
        "outputId": "c3b61900-7e70-484c-9135-d0f3f2d3f94f"
      },
      "execution_count": null,
      "outputs": [
        {
          "output_type": "stream",
          "name": "stdout",
          "text": [
            "/bin/bash: -c: line 0: syntax error near unexpected token `newline'\n",
            "/bin/bash: -c: line 0: `git clone <https://github.com/utn-fra-fisica-electronica/ejemplos>'\n"
          ]
        }
      ]
    },
    {
      "cell_type": "markdown",
      "source": [
        "#Python\n",
        "##Machete\n",
        "https://drive.google.com/file/d/1qeV1lTDNN1VfjwMOIQyKHLmpkUIYCUKu/view?usp=sharing\n",
        "#Matplotlib\n",
        "Biblioteca https://matplotlib.org/\n",
        "Matplotlib es una biblioteca para la generación de gráficos a partir de datos contenidos en listas o arrays en el lenguaje de programación Python y su extensión matemática NumPy. Proporciona una API, pylab, diseñada para recordar a la de MATLAB.\n",
        "##Machete\n",
        "https://drive.google.com/file/d/1gA5Lh5155sdRoPDFC7dHd8ScPCkG8KiS/view?usp=sharing\n",
        "\n",
        "#NumPy\n",
        "Biblioteca https://numpy.org/\n",
        "NumPy es una biblioteca para el lenguaje de programación Python que da soporte para crear vectores y matrices grandes multidimensionales, junto con una gran colección de funciones matemáticas de alto nivel para operar con ellas. \n",
        "## Machete \n",
        "https://drive.google.com/file/d/13N8PiEwWEkbJyq1iR7g_URr7a8HSwJUN/view?usp=sharing\n"
      ],
      "metadata": {
        "id": "J8At2c8u06p9"
      }
    },
    {
      "cell_type": "code",
      "execution_count": 4,
      "metadata": {
        "id": "y_XouuwA00y0",
        "outputId": "6dcf5456-f878-48cd-92ee-7978a1a5e411",
        "colab": {
          "base_uri": "https://localhost:8080/"
        }
      },
      "outputs": [
        {
          "output_type": "stream",
          "name": "stdout",
          "text": [
            "3\n"
          ]
        }
      ],
      "source": [
        "\n",
        "x= x + 1\n",
        "print(x)"
      ]
    }
  ]
}