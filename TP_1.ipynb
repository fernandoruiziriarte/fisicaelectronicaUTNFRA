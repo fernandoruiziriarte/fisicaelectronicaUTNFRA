{
  "nbformat": 4,
  "nbformat_minor": 0,
  "metadata": {
    "colab": {
      "provenance": [],
      "authorship_tag": "ABX9TyM9nsZi+F2azGj3b0juat/y",
      "include_colab_link": true
    },
    "kernelspec": {
      "name": "python3",
      "display_name": "Python 3"
    },
    "language_info": {
      "name": "python"
    }
  },
  "cells": [
    {
      "cell_type": "markdown",
      "metadata": {
        "id": "view-in-github",
        "colab_type": "text"
      },
      "source": [
        "<a href=\"https://colab.research.google.com/github/fernandoruiziriarte/fisicaelectronicaUTNFRA/blob/main/TP_1.ipynb\" target=\"_parent\"><img src=\"https://colab.research.google.com/assets/colab-badge.svg\" alt=\"Open In Colab\"/></a>"
      ]
    },
    {
      "cell_type": "markdown",
      "source": [
        "ejercicio 7"
      ],
      "metadata": {
        "id": "9DLX_ooAEGEb"
      }
    },
    {
      "cell_type": "code",
      "execution_count": 1,
      "metadata": {
        "colab": {
          "base_uri": "https://localhost:8080/",
          "height": 366
        },
        "id": "_7ook6haDzHK",
        "outputId": "638f6649-337d-4f2a-9dab-df2029b18e1e"
      },
      "outputs": [
        {
          "output_type": "stream",
          "name": "stdout",
          "text": [
            "GRAFICO:\n",
            "\n"
          ]
        },
        {
          "output_type": "display_data",
          "data": {
            "text/plain": [
              "<Figure size 432x288 with 1 Axes>"
            ],
            "image/png": "[encoded data removed]"
          },
          "metadata": {
            "needs_background": "light"
          }
        },
        {
          "output_type": "stream",
          "name": "stdout",
          "text": [
            "\n",
            "\n",
            "Pendiente =  9.925337222019687\n"
          ]
        }
      ],
      "source": [
        "import matplotlib.pyplot as plt\n",
        "import numpy as np\n",
        "x=np.array([-55,-10,25,100,150])\n",
        "y=np.array([-528,-119,252,972,1507])\n",
        "x_promedio=x.mean()\n",
        "pendiente=(y*(x-x_promedio)).sum() / (x*(x-x_promedio)).sum()\n",
        "yint= y.mean() - pendiente * x_promedio\n",
        "y_recta=yint+pendiente*x\n",
        "print(\"GRAFICO:\")\n",
        "print()\n",
        "plt.plot(x,y,\"o\",color=\"r\")\n",
        "plt.plot(x,y_recta,color=\"g\")\n",
        "plt.xlabel('Temperatura[°C]')\n",
        "plt.ylabel('Tension[mV]')\n",
        "plt.grid()\n",
        "plt.show()\n",
        "print()\n",
        "print()\n",
        "print(\"Pendiente = \",pendiente)"
      ]
    },
    {
      "cell_type": "markdown",
      "source": [
        "ejercicio 9\n",
        "punto a)"
      ],
      "metadata": {
        "id": "bIc8LNzEED3N"
      }
    },
    {
      "cell_type": "code",
      "source": [
        "import matplotlib.pyplot as plt\n",
        "import numpy as np\n",
        "from scipy.optimize import curve_fit\n",
        "\n",
        "def funcion(x,a,b):\n",
        "  return a*np.sin(b*x)\n",
        "\n",
        "x=np.array([0,1,2,3,4,5,6,7,8])\n",
        "y=np.array([0.2,7,9.5,6.8,-0.1,-7.1,-10.4,-6.7,0.1])\n",
        "xn=np.linspace(0,8,1000)\n",
        "res,cov=curve_fit (funcion,x,y)\n",
        "a,b=res\n",
        "\n",
        "print(\"GRAFICO:\")\n",
        "print()\n",
        "plt.plot(xn,funcion(xn,res[0],res[1]))\n",
        "plt.plot(x,y,'o',color='r')\n",
        "plt.xlabel('Eje X')\n",
        "plt.ylabel('Eje Y')\n",
        "plt.grid()\n",
        "plt.show()\n"
      ],
      "metadata": {
        "colab": {
          "base_uri": "https://localhost:8080/",
          "height": 314
        },
        "id": "bBELwBZpEMfX",
        "outputId": "c454fef2-b0cf-4794-b901-ee0dee773370"
      },
      "execution_count": 2,
      "outputs": [
        {
          "output_type": "stream",
          "name": "stdout",
          "text": [
            "GRAFICO:\n",
            "\n"
          ]
        },
        {
          "output_type": "display_data",
          "data": {
            "text/plain": [
              "<Figure size 432x288 with 1 Axes>"
            ],
            "image/png": "[encoded data removed]"
          },
          "metadata": {
            "needs_background": "light"
          }
        }
      ]
    },
    {
      "cell_type": "markdown",
      "source": [
        "punto b)"
      ],
      "metadata": {
        "id": "Pdv0zK2HEdl1"
      }
    },
    {
      "cell_type": "code",
      "source": [
        "import matplotlib.pyplot as plt\n",
        "import numpy as np\n",
        "from scipy.optimize import curve_fit\n",
        "\n",
        "def funcion(x,a,b):\n",
        "  return a*np.sin(b*x)\n",
        "\n",
        "def inve(y,a,b,c):\n",
        "  if c==1:\n",
        "    return (np.arcsin(y/a)+2*np.pi)/b\n",
        "  else:\n",
        "    return (np.arcsin(y/a))/b\n",
        "\n",
        "x=np.array([0,1,2,3,4,5,6,7,8])\n",
        "y=np.array([0.2,7,9.5,6.8,-0.1,-7.1,-10.4,-6.7,0.1])\n",
        "xn=np.linspace(0,8,1000)\n",
        "res,cov=curve_fit (funcion,x,y)\n",
        "a,b=res\n",
        "\n",
        "miny=np.min(funcion(xn,a,b))\n",
        "minx=inve(miny,a,b,1)\n",
        "print(\"MINIMO\")\n",
        "print()\n",
        "print(\"cordenadas=(\",minx,\";\",miny,\")\")\n",
        "print()\n",
        "maxy=np.max(funcion(xn,a,b))\n",
        "maxx=inve(maxy,a,b,0)\n",
        "print(\"MAXIMO\")\n",
        "print()\n",
        "print(\"cordenadas=(\",maxx,\";\",maxy,\")\")"
      ],
      "metadata": {
        "colab": {
          "base_uri": "https://localhost:8080/"
        },
        "id": "IGLgRbsOEjku",
        "outputId": "9fd5b4af-d6cb-4f44-895e-7f697460fe86"
      },
      "execution_count": 3,
      "outputs": [
        {
          "output_type": "stream",
          "name": "stdout",
          "text": [
            "MINIMO\n",
            "\n",
            "cordenadas=( 5.981981981982006 ; -9.8685814478471 )\n",
            "\n",
            "MAXIMO\n",
            "\n",
            "cordenadas=( 1.991836270395589 ; 9.868609991506373 )\n"
          ]
        }
      ]
    },
    {
      "cell_type": "markdown",
      "source": [
        "punto c)"
      ],
      "metadata": {
        "id": "KtwPxyMyEpGe"
      }
    },
    {
      "cell_type": "code",
      "source": [
        "import matplotlib.pyplot as plt\n",
        "import numpy as np\n",
        "from scipy.optimize import curve_fit\n",
        "\n",
        "def funcion(x,a,b):\n",
        "  return a*np.sin(b*x)\n",
        "\n",
        "def inve(y,a,b,c):\n",
        "  if c==1:\n",
        "    return (np.arcsin(y/a)+2*np.pi)/b\n",
        "  else:\n",
        "    return (np.arcsin(y/a))/b\n",
        "\n",
        "x=np.array([0,1,2,3,4,5,6,7,8])\n",
        "y=np.array([0.2,7,9.5,6.8,-0.1,-7.1,-10.4,-6.7,0.1])\n",
        "xn=np.linspace(0,8,100)\n",
        "res,cov=curve_fit (funcion,x,y)\n",
        "a,b=res\n",
        "\n",
        "print(\"GRACIFO 100 muestras:\")\n",
        "print()\n",
        "plt.plot(xn,funcion(xn,res[0],res[1]))\n",
        "plt.plot(x,y,'o',color='r')\n",
        "plt.xlabel('Eje X')\n",
        "plt.ylabel('Eje Y')\n",
        "plt.grid()\n",
        "plt.show()\n",
        "print()\n",
        "print()\n",
        "print()\n",
        "\n",
        "miny=np.min(funcion(xn,a,b))\n",
        "minx=inve(miny,a,b,1)\n",
        "print(\"MINIMO\")\n",
        "print()\n",
        "print(\"cordenadas=(\",minx,\";\",miny,\")\")\n",
        "print()\n",
        "maxy=np.max(funcion(xn,a,b))\n",
        "maxx=inve(maxy,a,b,0)\n",
        "print(\"MAXIMO\")\n",
        "print()\n",
        "print(\"cordenadas=(\",maxx,\";\",maxy,\")\")"
      ],
      "metadata": {
        "colab": {
          "base_uri": "https://localhost:8080/",
          "height": 487
        },
        "id": "k-QgXpnVEvBF",
        "outputId": "b56ccb7b-694c-4802-d8f8-20c8e5d3eede"
      },
      "execution_count": 4,
      "outputs": [
        {
          "output_type": "stream",
          "name": "stdout",
          "text": [
            "GRACIFO 100 muestras:\n",
            "\n"
          ]
        },
        {
          "output_type": "display_data",
          "data": {
            "text/plain": [
              "<Figure size 432x288 with 1 Axes>"
            ],
            "image/png": "[encoded data removed]"
          },
          "metadata": {
            "needs_background": "light"
          }
        },
        {
          "output_type": "stream",
          "name": "stdout",
          "text": [
            "\n",
            "\n",
            "\n",
            "MINIMO\n",
            "\n",
            "cordenadas=( 5.979797979798194 ; -9.868610163204025 )\n",
            "\n",
            "MAXIMO\n",
            "\n",
            "cordenadas=( 1.965628244187527 ; 9.866331223532134 )\n"
          ]
        }
      ]
    },
    {
      "cell_type": "markdown",
      "source": [
        "10 puebas \n"
      ],
      "metadata": {
        "id": "l3DAp9huE3W_"
      }
    },
    {
      "cell_type": "code",
      "source": [
        "import matplotlib.pyplot as plt\n",
        "import numpy as np\n",
        "from scipy.optimize import curve_fit\n",
        "\n",
        "def funcion(x,a,b):\n",
        "  return a*np.sin(b*x)\n",
        "\n",
        "def inve(y,a,b,c):\n",
        "  if c==1:\n",
        "    return (np.arcsin(y/a)+2*np.pi)/b\n",
        "  else:\n",
        "    return (np.arcsin(y/a))/b\n",
        "\n",
        "x=np.array([0,1,2,3,4,5,6,7,8])\n",
        "y=np.array([0.2,7,9.5,6.8,-0.1,-7.1,-10.4,-6.7,0.1])\n",
        "xn=np.linspace(0,8,10)\n",
        "res,cov=curve_fit (funcion,x,y)\n",
        "a,b=res\n",
        "\n",
        "print(\"GRACIFO 10 muestras:\")\n",
        "print()\n",
        "plt.plot(xn,funcion(xn,res[0],res[1]))\n",
        "plt.plot(x,y,'o',color='r')\n",
        "plt.xlabel('Eje X')\n",
        "plt.ylabel('Eje Y')\n",
        "plt.grid()\n",
        "plt.show()\n",
        "print()\n",
        "print()\n",
        "print()\n",
        "\n",
        "miny=np.min(funcion(xn,a,b))\n",
        "minx=inve(miny,a,b,1)\n",
        "print(\"MINIMO\")\n",
        "print()\n",
        "print(\"cordenadas=(\",minx,\";\",miny,\")\")\n",
        "print()\n",
        "maxy=np.max(funcion(xn,a,b))\n",
        "maxx=inve(maxy,a,b,0)\n",
        "print(\"MAXIMO\")\n",
        "print()\n",
        "print(\"cordenadas=(\",maxx,\";\",maxy,\")\")"
      ],
      "metadata": {
        "colab": {
          "base_uri": "https://localhost:8080/",
          "height": 487
        },
        "id": "1HKpG8r3FB0w",
        "outputId": "4121e8a7-c989-433a-97f1-ac7d0f027fb9"
      },
      "execution_count": 5,
      "outputs": [
        {
          "output_type": "stream",
          "name": "stdout",
          "text": [
            "GRACIFO 10 muestras:\n",
            "\n"
          ]
        },
        {
          "output_type": "display_data",
          "data": {
            "text/plain": [
              "<Figure size 432x288 with 1 Axes>"
            ],
            "image/png": "[encoded data removed]"
          },
          "metadata": {
            "needs_background": "light"
          }
        },
        {
          "output_type": "stream",
          "name": "stdout",
          "text": [
            "\n",
            "\n",
            "\n",
            "MINIMO\n",
            "\n",
            "cordenadas=( 6.222222222222221 ; -9.687450228650663 )\n",
            "\n",
            "MAXIMO\n",
            "\n",
            "cordenadas=( 1.7777777777777786 ; 9.72707360271236 )\n"
          ]
        }
      ]
    }
  ]
}