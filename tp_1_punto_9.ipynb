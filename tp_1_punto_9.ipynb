{
  "nbformat": 4,
  "nbformat_minor": 0,
  "metadata": {
    "colab": {
      "name": "tp 1 punto 9",
      "provenance": [],
      "collapsed_sections": [],
      "authorship_tag": "ABX9TyNeUCXV7IXpvqrQkinkKRDa",
      "include_colab_link": true
    },
    "kernelspec": {
      "name": "python3",
      "display_name": "Python 3"
    },
    "language_info": {
      "name": "python"
    }
  },
  "cells": [
    {
      "cell_type": "markdown",
      "metadata": {
        "id": "view-in-github",
        "colab_type": "text"
      },
      "source": [
        "<a href=\"https://colab.research.google.com/github/fernandoruiziriarte/fisicaelectronicaUTNFRA/blob/main/tp_1_punto_9.ipynb\" target=\"_parent\"><img src=\"https://colab.research.google.com/assets/colab-badge.svg\" alt=\"Open In Colab\"/></a>"
      ]
    },
    {
      "cell_type": "markdown",
      "source": [
        "  **TP 1 Errores** \n",
        "\n",
        "---\n",
        "\n",
        " **(punto 9)   a)**"
      ],
      "metadata": {
        "id": "LuMx4doXZry_"
      }
    },
    {
      "cell_type": "code",
      "source": [
        "#punto a)\n",
        "import numpy as np\n",
        "from scipy.optimize import curve_fit\n",
        "from sympy import *\n",
        "import matplotlib.pyplot as plt\n",
        "def funcion(x, a, b):\n",
        "  return a*np.sin(b*x)\n",
        "x_data = np.array([0.0, 1.0, 2.0, 3.0, 4.0, 5.0, 6.0, 7.0, 8.0])\n",
        "y_data = np.array([0.2, 7.0, 9.5, 6.8, -0.1, -7.1, -10.4, -6.7, 0.1])\n",
        "\n",
        "params, params_covariance = curve_fit(funcion, x_data, y_data)\n",
        "\n",
        "a,b=params[0],params[1]#asignamos a a y a b sus valores correspondientes \n",
        "funcion_original=a*np.sin(b*x)\n",
        "print(f\"la funcion original es:  {params[0]}.sen({params[1]}.x)\")#imprimimos en texto la funcion original \n",
        "#grafico de la funcion \n",
        "# Función seno.\n",
        "def f1(x):\n",
        "    return (params[0])*np.sin(x*(params[1]))\n",
        "\n",
        "x=np.linspace(0,8,1000)\n",
        "pyplot.plot(x, [f1(i) for i in x])\n",
        "pyplot.axvline(0, color=\"black\")\n",
        "pyplot.xlim(0, 8)\n",
        "pyplot.ylim(-10, 10)\n",
        "pyplot.show()\n"
      ],
      "metadata": {
        "colab": {
          "base_uri": "https://localhost:8080/",
          "height": 286
        },
        "id": "t_QTnl23Zimg",
        "outputId": "a7a13806-236b-46cb-d2a0-17b2177e1f45"
      },
      "execution_count": 48,
      "outputs": [
        {
          "output_type": "stream",
          "name": "stdout",
          "text": [
            "la funcion original es:  9.868613559465716.sen(0.7881902753505609.x)\n"
          ]
        },
        {
          "output_type": "display_data",
          "data": {
            "text/plain": [
              "<Figure size 432x288 with 1 Axes>"
            ],
            "image/png": "[encoded data removed]"
          },
          "metadata": {
            "needs_background": "light"
          }
        }
      ]
    },
    {
      "cell_type": "markdown",
      "source": [
        "**punto b**"
      ],
      "metadata": {
        "id": "BMKr9olK4bQv"
      }
    },
    {
      "cell_type": "code",
      "source": [
        "# punto b)\n",
        "\n",
        "import numpy as np \n",
        "import math\n",
        "#funcion seno \n",
        "x=np.linspace(0,8,1000)#busca valores comprendidos entre 0 a 8 ,con mil muestras \n",
        "y= funcion_original#funcion a al a que le queremos hallar el maximo \n",
        "y_max=np.max(y)#calcula el maximo de y \n",
        "#calculamos el valor de x que correxponde a y \n",
        "x_max=((math.pi)/2)/params[1]\n",
        "print(f\"el maximo es: ( {x_max:.3} , {y_max:.3})\")\n",
        "#minimo de funcion \n",
        "y_min=-y_max\n",
        "x_min=((math.pi)*3/2)/0.7451\n",
        "print(f\"el minimo es: ( {x_min:.3} , {y_min:.3})\")"
      ],
      "metadata": {
        "colab": {
          "base_uri": "https://localhost:8080/"
        },
        "id": "fj1liSaCbuIV",
        "outputId": "8c925ae8-12a8-4a5e-c1d8-1ada2bf41218"
      },
      "execution_count": null,
      "outputs": [
        {
          "output_type": "stream",
          "name": "stdout",
          "text": [
            "el maximo es: ( 1.99 , 9.87)\n",
            "el minimo es: ( 6.32 , -9.87)\n"
          ]
        }
      ]
    },
    {
      "cell_type": "markdown",
      "source": [
        "**punto c**"
      ],
      "metadata": {
        "id": "tfANrUrT4L4y"
      }
    },
    {
      "cell_type": "code",
      "source": [
        "#punto c)(10 muestras )\n",
        "# Función seno.\n",
        "def f12(x):\n",
        "    return (params[0])*np.sin(x*(params[1]))\n",
        "\n",
        "x_10=np.linspace(0,8,10)\n",
        "pyplot.plot(x_10, [f1(i) for i in x_10])\n",
        "pyplot.axvline(0, color=\"black\")\n",
        "pyplot.xlim(0, 8)\n",
        "pyplot.ylim(-10, 10)\n",
        "pyplot.show()\n",
        "\n",
        "\n",
        "x=np.linspace(0,8,10)#busca valores comprendidos entre 0 a 8 ,con mil muestras \n",
        "y= funcion_original#funcion a al a que le queremos hallar el maximo \n",
        "y_max=np.max(y)#calcula el maximo de y \n",
        "#calculamos el valor de x que correxponde a y \n",
        "x_max=((math.pi)/2)/params[1]\n",
        "print(f\"el maximo es: ( {x_max:.3} , {y_max:.3})\")\n",
        "#minimo de funcion \n",
        "y_min=-y_max\n",
        "x_min=((math.pi)*3/2)/0.7451\n",
        "print(f\"el minimo es: ( {x_min:.3} , {y_min:.3})\")"
      ],
      "metadata": {
        "colab": {
          "base_uri": "https://localhost:8080/",
          "height": 304
        },
        "id": "SjFpYvuGugmA",
        "outputId": "22e3200f-d59d-4674-fd24-59f90d7cc5d0"
      },
      "execution_count": null,
      "outputs": [
        {
          "output_type": "display_data",
          "data": {
            "text/plain": [
              "<Figure size 432x288 with 1 Axes>"
            ],
            "image/png": "[encoded data removed]"
          },
          "metadata": {
            "needs_background": "light"
          }
        },
        {
          "output_type": "stream",
          "name": "stdout",
          "text": [
            "el maximo es: ( 1.99 , 9.87)\n",
            "el minimo es: ( 6.32 , -9.87)\n"
          ]
        }
      ]
    },
    {
      "cell_type": "code",
      "source": [
        "#punto c)(100 muestras )\n",
        "# Función seno.\n",
        "def f12(x):\n",
        "    return (params[0])*np.sin(x*(params[1]))\n",
        "\n",
        "x_10=np.linspace(0,8,100)\n",
        "pyplot.plot(x_10, [f1(i) for i in x_10])\n",
        "pyplot.axvline(0, color=\"black\")\n",
        "pyplot.xlim(0, 8)\n",
        "pyplot.ylim(-10, 10)\n",
        "pyplot.show()\n",
        "\n",
        "\n",
        "x=np.linspace(0,8,100)#busca valores comprendidos entre 0 a 8 ,con mil muestras \n",
        "y= funcion_original#funcion a al a que le queremos hallar el maximo \n",
        "y_max=np.max(y)#calcula el maximo de y \n",
        "#calculamos el valor de x que correxponde a y \n",
        "x_max=((math.pi)/2)/params[1]\n",
        "print(f\"el maximo es: ( {x_max:.3} , {y_max:.3})\")\n",
        "#minimo de funcion \n",
        "y_min=-y_max\n",
        "x_min=((math.pi)*3/2)/0.7451\n",
        "print(f\"el minimo es: ( {x_min:.3} , {y_min:.3})\")"
      ],
      "metadata": {
        "colab": {
          "base_uri": "https://localhost:8080/",
          "height": 304
        },
        "id": "Zqge4SVa2zJM",
        "outputId": "491211a5-583d-4673-e6d4-a5d324c5b7f4"
      },
      "execution_count": null,
      "outputs": [
        {
          "output_type": "display_data",
          "data": {
            "text/plain": [
              "<Figure size 432x288 with 1 Axes>"
            ],
            "image/png": "[encoded data removed]"
          },
          "metadata": {
            "needs_background": "light"
          }
        },
        {
          "output_type": "stream",
          "name": "stdout",
          "text": [
            "el maximo es: ( 1.99 , 9.87)\n",
            "el minimo es: ( 6.32 , -9.87)\n"
          ]
        }
      ]
    },
    {
      "cell_type": "markdown",
      "source": [
        "**i**.con los maximos y los minimos se puede observar que a mayor cantidad de muestras son mucho mas precisos sus valores."
      ],
      "metadata": {
        "id": "Tq6VJTaR4nEG"
      }
    },
    {
      "cell_type": "markdown",
      "source": [
        "**ii.**con respecto a la grafica hay una mejor definicion en su trazo y mayor calidad con respecto a su imagen "
      ],
      "metadata": {
        "id": "lSoOt1nH5JqM"
      }
    },
    {
      "cell_type": "markdown",
      "source": [
        "**iii.**en el proceso de digitalizacion de una señal se pierden detalles de los mismos ya que no se obtiene una muestra completa con la que se puede reflejar resultados fehacientes  ,pero con la herramienta de python se puede aporximar bastante a la funcion con la que se deberia trabajar ."
      ],
      "metadata": {
        "id": "q62w6Zey5afN"
      }
    }
  ]
}