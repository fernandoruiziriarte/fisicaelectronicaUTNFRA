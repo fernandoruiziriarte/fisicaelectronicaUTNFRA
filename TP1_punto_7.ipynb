{
  "nbformat": 4,
  "nbformat_minor": 0,
  "metadata": {
    "colab": {
      "name": "TP1 punto 7",
      "provenance": [],
      "authorship_tag": "ABX9TyOjXJOWcg7m6xRT93N6cY/h",
      "include_colab_link": true
    },
    "kernelspec": {
      "name": "python3",
      "display_name": "Python 3"
    },
    "language_info": {
      "name": "python"
    }
  },
  "cells": [
    {
      "cell_type": "markdown",
      "metadata": {
        "id": "view-in-github",
        "colab_type": "text"
      },
      "source": [
        "<a href=\"https://colab.research.google.com/github/fernandoruiziriarte/fisicaelectronicaUTNFRA/blob/main/TP1_punto_7.ipynb\" target=\"_parent\"><img src=\"https://colab.research.google.com/assets/colab-badge.svg\" alt=\"Open In Colab\"/></a>"
      ]
    },
    {
      "cell_type": "code",
      "execution_count": 25,
      "metadata": {
        "colab": {
          "base_uri": "https://localhost:8080/",
          "height": 335
        },
        "id": "xLG_iKa1C9Gw",
        "outputId": "2aa11f37-c41f-438f-b629-1aab90c346d1"
      },
      "outputs": [
        {
          "output_type": "stream",
          "name": "stdout",
          "text": [
            "la funcion original es: f(x): 0.028.x-9.0\n"
          ]
        },
        {
          "output_type": "display_data",
          "data": {
            "text/plain": [
              "<Figure size 432x288 with 1 Axes>"
            ],
            "image/png": "[encoded data removed]"
          },
          "metadata": {
            "needs_background": "light"
          }
        },
        {
          "output_type": "stream",
          "name": "stdout",
          "text": [
            "pendiente=0.028\n"
          ]
        }
      ],
      "source": [
        "import numpy as np\n",
        "from scipy.optimize import curve_fit\n",
        "from sympy import *\n",
        "import matplotlib\n",
        "import matplotlib.pyplot as plt\n",
        "\n",
        "def funcion(x, m, b):\n",
        "  return m*x+b\n",
        "x_data = np.array([-528,-119,252,972,972,150,7])\n",
        "y_data = np.array([-55,-10,25,10,0,15,0])\n",
        "params, params_covariance = curve_fit(funcion, x_data, y_data)\n",
        "\n",
        "#grafico de la funcion \n",
        "# recta .\n",
        "ordenada=params[1]\n",
        "def f1(x):\n",
        "    return pendiente *x+ordenada\n",
        "print(f\"la funcion original es: f(x): {pendiente:.2}.x{ordenada:.2}\")#imprimimos en texto la funcion original \n",
        "\n",
        "#titulo del grafico \n",
        "plt.title(\"relacion tension contra temperatura \", \n",
        "          fontdict={'family': 'serif', \n",
        "                    'color' : 'darkblue',\n",
        "                    'weight': 'bold',\n",
        "                    'size': 13})\n",
        "#desde que punto haste que punto del eje de las x va \n",
        "x=np.linspace(-600,1000,1600)\n",
        "plt.plot(x, [f1(i) for i in x]) \n",
        "plt.plot(x_data,y_data, \"o\")#datos originales\n",
        "#nombre de los ejes \n",
        "plt.xlabel(\"tension(mv)\", size = 16,)\n",
        "plt.ylabel(\"temp(°c)\", size = 16)\n",
        "\n",
        "plt.axvline(0, color=\"black\")\n",
        "plt.xlim(-600, 1000)\n",
        "plt.ylim(-60, 20)\n",
        "#grilla\n",
        "plt.grid(True)\n",
        "#mostrar grafico \n",
        "plt.show()\n",
        "#asignamos el valor de la pendiente a variable pendiente \n",
        "pendiente=params[0]\n",
        "#mostarmos el valor de la pendiente \n",
        "print(f'pendiente={pendiente:.2}')\n",
        "\n",
        "\n"
      ]
    }
  ]
}