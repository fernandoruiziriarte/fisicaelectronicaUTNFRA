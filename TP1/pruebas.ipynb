{
 "metadata": {
  "language_info": {
   "codemirror_mode": {
    "name": "ipython",
    "version": 3
   },
   "file_extension": ".py",
   "mimetype": "text/x-python",
   "name": "python",
   "nbconvert_exporter": "python",
   "pygments_lexer": "ipython3",
   "version": "3.9.1-final"
  },
  "orig_nbformat": 2,
  "kernelspec": {
   "name": "python3",
   "display_name": "Python 3.9.1 64-bit",
   "metadata": {
    "interpreter": {
     "hash": "cb1b5a65da0cc646272e58611110345f985e2defa23f10ab69767e6512d72b2b"
    }
   }
  }
 },
 "nbformat": 4,
 "nbformat_minor": 2,
 "cells": [
  {
   "cell_type": "code",
   "execution_count": null,
   "metadata": {},
   "outputs": [],
   "source": [
    "import matplotlib.pyplot as plt\n",
    "import numpy as np\n",
    "plt.subplot(2,2,1)  # Dividimos la ventana en una fila y dos columnas y dibujamos el primer gráfico\n",
    "plt.plot((1,2,3,4,5))\n",
    "plt.subplot(2,2,2)  # Dividimos la ventana en una fila y dos columnas y dibujamos el segundo gráfico\n",
    "plt.plot((5,4,3,2,1))\n",
    "plt.subplot(2,1,2)  # Dividimos la ventana en una fila y dos columnas y dibujamos el primer gráfico\n",
    "plt.plot((1,2,3,4,5,5,4,3,2,1))"
   ]
  },
  {
   "cell_type": "code",
   "execution_count": null,
   "metadata": {},
   "outputs": [],
   "source": [
    "plt.ion()  # Ponemos la sesión como interactiva si no está como tal\n",
    "plt.axes()  # Coloca un área de gráfico con los valores por defecto\n",
    "plt.plot(np.exp(np.linspace(0,10,100)))  # Dibuja una exponencial de 0 a 10\n",
    "plt.axes([0.2,0.55,0.3,0.3])  # Dibuja una nueva área de gráfica colocada y con ancho y largo definido por [0.2,0.55,0.3,0.3] y con gris como color de fondo\n",
    "plt.plot(np.sin(np.linspace(0,10,100)), 'b-o', linewidth = 2)"
   ]
  },
  {
   "cell_type": "code",
   "execution_count": null,
   "metadata": {},
   "outputs": [],
   "source": [
    "plt.figure('valores por defecto')  # Creamos una ventana donde dibujamos el gráfico con la configuración por defecto\n",
    "plt.suptitle('Titulo valores por defecto')  # Esto sirve para poner título dentro de la ventana\n",
    "plt.plot((1,2,3,4,5), label = 'por defecto')  # Hacemos el plot\n",
    "plt.legend(loc = 2)  # Colocamos la leyenda en la esquina superior izquierda\n",
    "plt.rc('lines', linewidth = 2)  # A partir de aquí todas las líneas que dibujemos irán con ancho doble\n",
    "plt.rc('font', size = 18)  # A partir de aquí las fuentes que aparezcan en cualquier gráfico en la misma sesión tendrán mayor tamaño\n",
    "plt.figure('valores modificados')  # Creamos una ventana donde dibujamos el gráfico con la configuración por defecto\n",
    "plt.suptitle('Titulo valores modificados')  # Esto sirve para poner título dentro de la ventana\n",
    "plt.plot((1,2,3,4,5), label = u'linea más ancha y letra más grande')  # Hacemos el plot\n",
    "plt.legend(loc = 10)  # Colocamos la leyenda en la esquina superior izquierda"
   ]
  },
  {
   "cell_type": "code",
   "execution_count": null,
   "metadata": {},
   "outputs": [],
   "source": []
  }
 ]
}